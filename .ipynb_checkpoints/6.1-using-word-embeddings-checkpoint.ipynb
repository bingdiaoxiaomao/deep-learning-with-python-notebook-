{
 "cells": [
  {
   "cell_type": "code",
   "execution_count": 1,
   "metadata": {},
   "outputs": [
    {
     "name": "stderr",
     "output_type": "stream",
     "text": [
      "D:\\Program Files (x86)\\anaconda\\lib\\site-packages\\h5py\\__init__.py:36: FutureWarning: Conversion of the second argument of issubdtype from `float` to `np.floating` is deprecated. In future, it will be treated as `np.float64 == np.dtype(float).type`.\n",
      "  from ._conv import register_converters as _register_converters\n",
      "Using TensorFlow backend.\n"
     ]
    },
    {
     "data": {
      "text/plain": [
       "'2.2.2'"
      ]
     },
     "execution_count": 1,
     "metadata": {},
     "output_type": "execute_result"
    }
   ],
   "source": [
    "import keras\n",
    "keras.__version__"
   ]
  },
  {
   "cell_type": "code",
   "execution_count": 2,
   "metadata": {},
   "outputs": [],
   "source": [
    "from keras.layers import Embedding\n",
    "\n",
    "embedding_layer = Embedding(input_dim=1000,output_dim=64)"
   ]
  },
  {
   "cell_type": "code",
   "execution_count": 3,
   "metadata": {},
   "outputs": [],
   "source": [
    "from keras.datasets import imdb\n",
    "from keras import preprocessing"
   ]
  },
  {
   "cell_type": "code",
   "execution_count": 4,
   "metadata": {},
   "outputs": [],
   "source": [
    "max_features = 10000\n",
    "maxlen = 20\n",
    "(x_train,y_train),(x_test,y_test) = imdb.load_data(num_words=max_features)"
   ]
  },
  {
   "cell_type": "code",
   "execution_count": 5,
   "metadata": {},
   "outputs": [],
   "source": [
    "x_train = preprocessing.sequence.pad_sequences(x_train,maxlen=maxlen)\n",
    "x_test = preprocessing.sequence.pad_sequences(x_test,maxlen=maxlen)"
   ]
  },
  {
   "cell_type": "code",
   "execution_count": 6,
   "metadata": {},
   "outputs": [],
   "source": [
    "from keras.models import Sequential\n",
    "from keras.layers import Flatten,Dense"
   ]
  },
  {
   "cell_type": "code",
   "execution_count": 7,
   "metadata": {},
   "outputs": [
    {
     "name": "stdout",
     "output_type": "stream",
     "text": [
      "_________________________________________________________________\n",
      "Layer (type)                 Output Shape              Param #   \n",
      "=================================================================\n",
      "embedding_2 (Embedding)      (None, 20, 8)             80000     \n",
      "_________________________________________________________________\n",
      "flatten_1 (Flatten)          (None, 160)               0         \n",
      "_________________________________________________________________\n",
      "dense_1 (Dense)              (None, 1)                 161       \n",
      "=================================================================\n",
      "Total params: 80,161\n",
      "Trainable params: 80,161\n",
      "Non-trainable params: 0\n",
      "_________________________________________________________________\n",
      "None\n"
     ]
    }
   ],
   "source": [
    "model = Sequential()\n",
    "model.add(Embedding(input_dim=max_features,input_length=maxlen,output_dim=8))\n",
    "model.add(Flatten())\n",
    "model.add(Dense(units=1,activation='sigmoid'))\n",
    "model.compile(optimizer='rmsprop',loss='binary_crossentropy',metrics=['acc'])\n",
    "print(model.summary())"
   ]
  },
  {
   "cell_type": "code",
   "execution_count": 8,
   "metadata": {},
   "outputs": [],
   "source": [
    "from keras.utils import plot_model"
   ]
  },
  {
   "cell_type": "code",
   "execution_count": 9,
   "metadata": {},
   "outputs": [],
   "source": [
    "plot_model(model,to_file='images/word_embedding.png')"
   ]
  },
  {
   "cell_type": "code",
   "execution_count": 10,
   "metadata": {},
   "outputs": [
    {
     "name": "stdout",
     "output_type": "stream",
     "text": [
      "Train on 20000 samples, validate on 5000 samples\n",
      "Epoch 1/10\n",
      "20000/20000 [==============================] - 4s 212us/step - loss: 0.6759 - acc: 0.6050 - val_loss: 0.6398 - val_acc: 0.6814\n",
      "Epoch 2/10\n",
      "20000/20000 [==============================] - 2s 114us/step - loss: 0.5657 - acc: 0.7427 - val_loss: 0.5467 - val_acc: 0.7206\n",
      "Epoch 3/10\n",
      "20000/20000 [==============================] - 2s 110us/step - loss: 0.4752 - acc: 0.7808 - val_loss: 0.5113 - val_acc: 0.7384\n",
      "Epoch 4/10\n",
      "20000/20000 [==============================] - 2s 113us/step - loss: 0.4263 - acc: 0.8077 - val_loss: 0.5008 - val_acc: 0.7452\n",
      "Epoch 5/10\n",
      "20000/20000 [==============================] - 2s 114us/step - loss: 0.3930 - acc: 0.8258 - val_loss: 0.4981 - val_acc: 0.7538\n",
      "Epoch 6/10\n",
      "20000/20000 [==============================] - 2s 108us/step - loss: 0.3668 - acc: 0.8395 - val_loss: 0.5014 - val_acc: 0.7530\n",
      "Epoch 7/10\n",
      "20000/20000 [==============================] - 2s 104us/step - loss: 0.3435 - acc: 0.8533 - val_loss: 0.5052 - val_acc: 0.7520\n",
      "Epoch 8/10\n",
      "20000/20000 [==============================] - 2s 105us/step - loss: 0.3223 - acc: 0.8657 - val_loss: 0.5132 - val_acc: 0.7486\n",
      "Epoch 9/10\n",
      "20000/20000 [==============================] - 2s 104us/step - loss: 0.3022 - acc: 0.8766 - val_loss: 0.5213 - val_acc: 0.7490\n",
      "Epoch 10/10\n",
      "20000/20000 [==============================] - 2s 104us/step - loss: 0.2839 - acc: 0.8860 - val_loss: 0.5303 - val_acc: 0.7466\n"
     ]
    }
   ],
   "source": [
    "history = model.fit(x_train,\n",
    "                    y_train,\n",
    "                    epochs=10,\n",
    "                    batch_size=32,\n",
    "                    validation_split=0.2)"
   ]
  },
  {
   "cell_type": "markdown",
   "metadata": {},
   "source": [
    "### Using pre-trained word embeddings"
   ]
  },
  {
   "cell_type": "code",
   "execution_count": 11,
   "metadata": {},
   "outputs": [],
   "source": [
    "import os\n",
    "from tqdm import tqdm"
   ]
  },
  {
   "cell_type": "code",
   "execution_count": 12,
   "metadata": {},
   "outputs": [
    {
     "name": "stderr",
     "output_type": "stream",
     "text": [
      "100%|██████████| 12500/12500 [00:01<00:00, 11691.62it/s]\n",
      "100%|██████████| 12500/12500 [00:01<00:00, 11572.87it/s]\n"
     ]
    }
   ],
   "source": [
    "imdb_dir = 'datasets/aclImdb'\n",
    "train_dir = os.path.join(imdb_dir,'train')\n",
    "\n",
    "labels = []\n",
    "texts = []\n",
    "for label_type in ['neg','pos']:\n",
    "    dir_name = os.path.join(train_dir,label_type)\n",
    "    for fname in tqdm(os.listdir(dir_name)):\n",
    "        if fname[-4:] == '.txt':\n",
    "            f = open(os.path.join(dir_name,fname),encoding='utf-8')\n",
    "            texts.append(f.read())\n",
    "            f.close()\n",
    "            if label_type == 'neg':\n",
    "                labels.append(0)\n",
    "            if label_type == 'pos':\n",
    "                labels.append(1)"
   ]
  },
  {
   "cell_type": "markdown",
   "metadata": {},
   "source": [
    "### Tokenize the data"
   ]
  },
  {
   "cell_type": "code",
   "execution_count": 13,
   "metadata": {},
   "outputs": [],
   "source": [
    "from keras.preprocessing.text import Tokenizer\n",
    "from keras.preprocessing.sequence import pad_sequences\n",
    "import numpy as np"
   ]
  },
  {
   "cell_type": "code",
   "execution_count": 14,
   "metadata": {},
   "outputs": [],
   "source": [
    "maxlen = 200\n",
    "training_samples = 200\n",
    "validation_samples = 10000\n",
    "max_words = 10000"
   ]
  },
  {
   "cell_type": "code",
   "execution_count": 15,
   "metadata": {},
   "outputs": [],
   "source": [
    "tokenizer = Tokenizer(num_words=max_words)\n",
    "tokenizer.fit_on_texts(texts)"
   ]
  },
  {
   "cell_type": "code",
   "execution_count": 16,
   "metadata": {},
   "outputs": [],
   "source": [
    "sequences = tokenizer.texts_to_sequences(texts)"
   ]
  },
  {
   "cell_type": "code",
   "execution_count": 17,
   "metadata": {},
   "outputs": [],
   "source": [
    "word_index = tokenizer.word_index"
   ]
  },
  {
   "cell_type": "code",
   "execution_count": 18,
   "metadata": {},
   "outputs": [
    {
     "name": "stdout",
     "output_type": "stream",
     "text": [
      "Found 88582 unique tokens.\n"
     ]
    }
   ],
   "source": [
    "print('Found {} unique tokens.'.format(len(word_index)))"
   ]
  },
  {
   "cell_type": "code",
   "execution_count": 19,
   "metadata": {},
   "outputs": [],
   "source": [
    "data = pad_sequences(sequences=sequences,maxlen=maxlen)"
   ]
  },
  {
   "cell_type": "code",
   "execution_count": 20,
   "metadata": {},
   "outputs": [],
   "source": [
    "labels = np.asarray(labels)"
   ]
  },
  {
   "cell_type": "code",
   "execution_count": 21,
   "metadata": {},
   "outputs": [
    {
     "name": "stdout",
     "output_type": "stream",
     "text": [
      "Shape of data tensor: (25000, 200)\n",
      "Shape of label tensor: (25000,)\n"
     ]
    }
   ],
   "source": [
    "print('Shape of data tensor: {}'.format(data.shape))\n",
    "print('Shape of label tensor: {}'.format(labels.shape))"
   ]
  },
  {
   "cell_type": "code",
   "execution_count": 22,
   "metadata": {},
   "outputs": [],
   "source": [
    "indices = np.arange(data.shape[0])\n",
    "np.random.shuffle(indices)\n",
    "data = data[indices]\n",
    "labels = labels[indices]"
   ]
  },
  {
   "cell_type": "code",
   "execution_count": 23,
   "metadata": {},
   "outputs": [],
   "source": [
    "x_train = data[:training_samples]\n",
    "y_train = labels[:training_samples]\n",
    "\n",
    "x_val = data[training_samples:training_samples+validation_samples]\n",
    "y_val = labels[training_samples:training_samples+validation_samples]"
   ]
  },
  {
   "cell_type": "markdown",
   "metadata": {},
   "source": [
    "### Pre-process the embeddings"
   ]
  },
  {
   "cell_type": "code",
   "execution_count": 24,
   "metadata": {},
   "outputs": [],
   "source": [
    "glove_dir = 'D:/Working Folder/packages/glove.6B'"
   ]
  },
  {
   "cell_type": "code",
   "execution_count": 25,
   "metadata": {},
   "outputs": [
    {
     "name": "stderr",
     "output_type": "stream",
     "text": [
      "100%|██████████| 400000/400000 [00:14<00:00, 27904.25it/s]\n"
     ]
    },
    {
     "name": "stdout",
     "output_type": "stream",
     "text": [
      "Found 400000 word vectors.\n"
     ]
    }
   ],
   "source": [
    "embeddings_index = {}\n",
    "f = open(os.path.join(glove_dir,'glove.6B.100d.txt'),encoding='utf-8')\n",
    "for line in tqdm(f.readlines()):\n",
    "    values = line.split()\n",
    "    word = values[0]\n",
    "    coefs = np.asarray(values[1:],dtype='float32')\n",
    "    embeddings_index[word] = coefs\n",
    "f.close()\n",
    "print('Found {} word vectors.'.format(len(embeddings_index)))"
   ]
  },
  {
   "cell_type": "code",
   "execution_count": 26,
   "metadata": {},
   "outputs": [
    {
     "name": "stderr",
     "output_type": "stream",
     "text": [
      "100%|██████████| 88582/88582 [00:00<00:00, 1044945.67it/s]\n"
     ]
    }
   ],
   "source": [
    "#tokenizer找到了80000+的词汇，但是此模型仅使用词频前10000的进行编码\n",
    "embedding_dim = 100\n",
    "embedding_matrix = np.zeros((max_words,embedding_dim))\n",
    "for word,i in tqdm(word_index.items()):\n",
    "    embedding_vector = embeddings_index.get(word)\n",
    "    if i < max_words:\n",
    "        if embedding_vector is not None:\n",
    "            embedding_matrix[i] = embedding_vector"
   ]
  },
  {
   "cell_type": "code",
   "execution_count": 27,
   "metadata": {},
   "outputs": [
    {
     "name": "stdout",
     "output_type": "stream",
     "text": [
      "(10000, 100)\n"
     ]
    }
   ],
   "source": [
    "print(embedding_matrix.shape)"
   ]
  },
  {
   "cell_type": "markdown",
   "metadata": {},
   "source": [
    "### Define a model"
   ]
  },
  {
   "cell_type": "code",
   "execution_count": 28,
   "metadata": {},
   "outputs": [],
   "source": [
    "from keras.models import Sequential\n",
    "from keras.layers import Embedding,Flatten,Dense"
   ]
  },
  {
   "cell_type": "code",
   "execution_count": 29,
   "metadata": {},
   "outputs": [
    {
     "name": "stdout",
     "output_type": "stream",
     "text": [
      "_________________________________________________________________\n",
      "Layer (type)                 Output Shape              Param #   \n",
      "=================================================================\n",
      "embedding_3 (Embedding)      (None, 200, 100)          1000000   \n",
      "_________________________________________________________________\n",
      "flatten_2 (Flatten)          (None, 20000)             0         \n",
      "_________________________________________________________________\n",
      "dense_2 (Dense)              (None, 32)                640032    \n",
      "_________________________________________________________________\n",
      "dense_3 (Dense)              (None, 1)                 33        \n",
      "=================================================================\n",
      "Total params: 1,640,065\n",
      "Trainable params: 1,640,065\n",
      "Non-trainable params: 0\n",
      "_________________________________________________________________\n"
     ]
    }
   ],
   "source": [
    "model = Sequential()\n",
    "model.add(Embedding(input_dim=max_words,output_dim=embedding_dim,input_length=maxlen))\n",
    "model.add(Flatten())\n",
    "model.add(Dense(units=32,activation='relu'))\n",
    "model.add(Dense(units=1,activation='sigmoid'))\n",
    "model.summary()"
   ]
  },
  {
   "cell_type": "markdown",
   "metadata": {},
   "source": [
    "### Load the Glove embeddings in the model"
   ]
  },
  {
   "cell_type": "code",
   "execution_count": 30,
   "metadata": {},
   "outputs": [],
   "source": [
    "model.layers[0].set_weights([embedding_matrix])\n",
    "model.layers[0].trainable = False"
   ]
  },
  {
   "cell_type": "code",
   "execution_count": 31,
   "metadata": {},
   "outputs": [],
   "source": [
    "model.compile(optimizer='rmsprop',loss='binary_crossentropy',metrics=['acc'])"
   ]
  },
  {
   "cell_type": "code",
   "execution_count": 32,
   "metadata": {},
   "outputs": [
    {
     "name": "stdout",
     "output_type": "stream",
     "text": [
      "Train on 200 samples, validate on 10000 samples\n",
      "Epoch 1/15\n",
      "200/200 [==============================] - ETA: 1s - loss: 0.6914 - acc: 0.468 - 1s 5ms/step - loss: 2.1480 - acc: 0.4800 - val_loss: 0.7059 - val_acc: 0.5069\n",
      "Epoch 2/15\n",
      "200/200 [==============================] - ETA: 0s - loss: 0.6545 - acc: 0.500 - 1s 3ms/step - loss: 0.6600 - acc: 0.6100 - val_loss: 1.3449 - val_acc: 0.5181\n",
      "Epoch 3/15\n",
      "200/200 [==============================] - ETA: 0s - loss: 1.0328 - acc: 0.656 - 1s 3ms/step - loss: 0.9526 - acc: 0.6900 - val_loss: 0.7626 - val_acc: 0.4959\n",
      "Epoch 4/15\n",
      "200/200 [==============================] - ETA: 0s - loss: 0.4547 - acc: 0.625 - 1s 3ms/step - loss: 0.4278 - acc: 0.7800 - val_loss: 1.6964 - val_acc: 0.4936\n",
      "Epoch 5/15\n",
      "200/200 [==============================] - ETA: 0s - loss: 0.7652 - acc: 0.656 - 1s 3ms/step - loss: 0.3932 - acc: 0.8200 - val_loss: 1.1069 - val_acc: 0.5179\n",
      "Epoch 6/15\n",
      "200/200 [==============================] - ETA: 0s - loss: 0.3752 - acc: 0.781 - 1s 3ms/step - loss: 0.2279 - acc: 0.9250 - val_loss: 0.8439 - val_acc: 0.5221\n",
      "Epoch 7/15\n",
      "200/200 [==============================] - ETA: 0s - loss: 0.1409 - acc: 0.968 - 1s 3ms/step - loss: 0.1067 - acc: 0.9700 - val_loss: 0.8003 - val_acc: 0.5573\n",
      "Epoch 8/15\n",
      "200/200 [==============================] - ETA: 0s - loss: 0.0496 - acc: 1.000 - 1s 3ms/step - loss: 0.1923 - acc: 0.9050 - val_loss: 0.7494 - val_acc: 0.5622\n",
      "Epoch 9/15\n",
      "200/200 [==============================] - ETA: 0s - loss: 0.0454 - acc: 1.000 - 1s 3ms/step - loss: 0.1064 - acc: 0.9700 - val_loss: 1.1265 - val_acc: 0.5280\n",
      "Epoch 10/15\n",
      "200/200 [==============================] - ETA: 0s - loss: 0.0424 - acc: 1.000 - 1s 3ms/step - loss: 0.0203 - acc: 1.0000 - val_loss: 0.7311 - val_acc: 0.5916\n",
      "Epoch 11/15\n",
      "200/200 [==============================] - ETA: 0s - loss: 0.0078 - acc: 1.000 - 1s 3ms/step - loss: 0.0079 - acc: 1.0000 - val_loss: 0.7676 - val_acc: 0.5799\n",
      "Epoch 12/15\n",
      "200/200 [==============================] - ETA: 0s - loss: 0.0035 - acc: 1.000 - 1s 3ms/step - loss: 0.0046 - acc: 1.0000 - val_loss: 0.7751 - val_acc: 0.5864\n",
      "Epoch 13/15\n",
      "200/200 [==============================] - ETA: 0s - loss: 0.0027 - acc: 1.000 - 1s 3ms/step - loss: 0.0031 - acc: 1.0000 - val_loss: 0.7863 - val_acc: 0.5976\n",
      "Epoch 14/15\n",
      "200/200 [==============================] - ETA: 0s - loss: 0.0017 - acc: 1.000 - 1s 3ms/step - loss: 0.0020 - acc: 1.0000 - val_loss: 0.8448 - val_acc: 0.5795\n",
      "Epoch 15/15\n",
      "200/200 [==============================] - ETA: 0s - loss: 0.0017 - acc: 1.000 - 1s 3ms/step - loss: 0.0014 - acc: 1.0000 - val_loss: 0.8347 - val_acc: 0.5868\n"
     ]
    }
   ],
   "source": [
    "history = model.fit(x_train,y_train,epochs=15,batch_size=32,validation_data=(x_val,y_val))\n",
    "model.save_weights('models/pre_trained_glove_model.h5')"
   ]
  },
  {
   "cell_type": "code",
   "execution_count": 33,
   "metadata": {},
   "outputs": [],
   "source": [
    "import matplotlib.pyplot as plt\n",
    "plt.style.use('ggplot')"
   ]
  },
  {
   "cell_type": "code",
   "execution_count": 34,
   "metadata": {},
   "outputs": [],
   "source": [
    "epochs = history.epoch\n",
    "acc = history.history['acc']\n",
    "val_acc = history.history['val_acc']\n",
    "loss = history.history['loss']\n",
    "val_loss = history.history['val_loss']"
   ]
  },
  {
   "cell_type": "code",
   "execution_count": 35,
   "metadata": {},
   "outputs": [
    {
     "data": {
      "image/png": "[encoded data removed]",
      "text/plain": [
       "<Figure size 720x432 with 2 Axes>"
      ]
     },
     "metadata": {},
     "output_type": "display_data"
    }
   ],
   "source": [
    "plt.figure(figsize=(10,6))\n",
    "plt.subplot(121)\n",
    "plt.plot(epochs,acc,'o-',color='r',label='Training')\n",
    "plt.plot(epochs,val_acc,'--',color='b',label='Validation')\n",
    "plt.xlabel('Epoch')\n",
    "plt.ylabel('Accuracy')\n",
    "plt.legend(loc='best')\n",
    "\n",
    "plt.subplot(122)\n",
    "plt.plot(epochs,loss,'o-',color='r',label='Training')\n",
    "plt.plot(epochs,val_loss,'--',color='b',label='Validation')\n",
    "plt.xlabel('Epoch')\n",
    "plt.ylabel('Loss')\n",
    "plt.legend(loc='best')\n",
    "plt.show()"
   ]
  },
  {
   "cell_type": "code",
   "execution_count": 36,
   "metadata": {},
   "outputs": [],
   "source": [
    "from keras.models import Sequential\n",
    "from keras.layers import Embedding,Flatten,Dense"
   ]
  },
  {
   "cell_type": "code",
   "execution_count": 37,
   "metadata": {},
   "outputs": [
    {
     "name": "stdout",
     "output_type": "stream",
     "text": [
      "_________________________________________________________________\n",
      "Layer (type)                 Output Shape              Param #   \n",
      "=================================================================\n",
      "embedding_4 (Embedding)      (None, 200, 100)          1000000   \n",
      "_________________________________________________________________\n",
      "flatten_3 (Flatten)          (None, 20000)             0         \n",
      "_________________________________________________________________\n",
      "dense_4 (Dense)              (None, 32)                640032    \n",
      "_________________________________________________________________\n",
      "dense_5 (Dense)              (None, 1)                 33        \n",
      "=================================================================\n",
      "Total params: 1,640,065\n",
      "Trainable params: 1,640,065\n",
      "Non-trainable params: 0\n",
      "_________________________________________________________________\n"
     ]
    }
   ],
   "source": [
    "model = Sequential()\n",
    "model.add(Embedding(input_dim=max_words,output_dim=embedding_dim,input_length=maxlen))\n",
    "model.add(Flatten())\n",
    "model.add(Dense(units=32,activation='relu'))\n",
    "model.add(Dense(units=1,activation='sigmoid'))\n",
    "model.summary()\n",
    "model.compile(optimizer='rmsprop',loss='binary_crossentropy',metrics=['acc'])"
   ]
  },
  {
   "cell_type": "code",
   "execution_count": 38,
   "metadata": {},
   "outputs": [
    {
     "name": "stdout",
     "output_type": "stream",
     "text": [
      "Train on 200 samples, validate on 10000 samples\n",
      "Epoch 1/15\n",
      "200/200 [==============================] - ETA: 1s - loss: 0.6913 - acc: 0.468 - ETA: 0s - loss: 0.6956 - acc: 0.520 - 1s 5ms/step - loss: 0.6987 - acc: 0.5150 - val_loss: 0.6927 - val_acc: 0.5173\n",
      "Epoch 2/15\n",
      "200/200 [==============================] - ETA: 0s - loss: 0.4812 - acc: 1.000 - ETA: 0s - loss: 0.4288 - acc: 0.958 - 1s 3ms/step - loss: 0.4266 - acc: 0.9600 - val_loss: 0.7872 - val_acc: 0.5177\n",
      "Epoch 3/15\n",
      "200/200 [==============================] - ETA: 0s - loss: 0.3637 - acc: 0.812 - ETA: 0s - loss: 0.2006 - acc: 0.963 - 1s 3ms/step - loss: 0.2007 - acc: 0.9650 - val_loss: 0.7624 - val_acc: 0.5053\n",
      "Epoch 4/15\n",
      "200/200 [==============================] - ETA: 0s - loss: 0.0659 - acc: 1.000 - ETA: 0s - loss: 0.0624 - acc: 0.994 - 1s 3ms/step - loss: 0.0628 - acc: 0.9950 - val_loss: 0.7664 - val_acc: 0.5099\n",
      "Epoch 5/15\n",
      "200/200 [==============================] - ETA: 0s - loss: 0.0456 - acc: 1.000 - ETA: 0s - loss: 0.0310 - acc: 1.000 - 1s 3ms/step - loss: 0.0307 - acc: 1.0000 - val_loss: 0.7160 - val_acc: 0.5343\n",
      "Epoch 6/15\n",
      "200/200 [==============================] - ETA: 0s - loss: 0.0200 - acc: 1.000 - ETA: 0s - loss: 0.0158 - acc: 1.000 - 1s 3ms/step - loss: 0.0159 - acc: 1.0000 - val_loss: 0.7449 - val_acc: 0.5245\n",
      "Epoch 7/15\n",
      "200/200 [==============================] - ETA: 0s - loss: 0.0106 - acc: 1.000 - ETA: 0s - loss: 0.0088 - acc: 1.000 - 1s 3ms/step - loss: 0.0088 - acc: 1.0000 - val_loss: 0.7564 - val_acc: 0.5232\n",
      "Epoch 8/15\n",
      "200/200 [==============================] - ETA: 0s - loss: 0.0053 - acc: 1.000 - ETA: 0s - loss: 0.0053 - acc: 1.000 - 1s 3ms/step - loss: 0.0052 - acc: 1.0000 - val_loss: 0.7557 - val_acc: 0.5277\n",
      "Epoch 9/15\n",
      "200/200 [==============================] - ETA: 0s - loss: 0.0028 - acc: 1.000 - ETA: 0s - loss: 0.0032 - acc: 1.000 - 1s 3ms/step - loss: 0.0032 - acc: 1.0000 - val_loss: 0.7437 - val_acc: 0.5338\n",
      "Epoch 10/15\n",
      "200/200 [==============================] - ETA: 0s - loss: 0.0024 - acc: 1.000 - ETA: 0s - loss: 0.0020 - acc: 1.000 - 1s 3ms/step - loss: 0.0020 - acc: 1.0000 - val_loss: 0.7717 - val_acc: 0.5275\n",
      "Epoch 11/15\n",
      "200/200 [==============================] - ETA: 0s - loss: 0.0015 - acc: 1.000 - ETA: 0s - loss: 0.0013 - acc: 1.000 - 1s 3ms/step - loss: 0.0013 - acc: 1.0000 - val_loss: 0.7461 - val_acc: 0.5377\n",
      "Epoch 12/15\n",
      "200/200 [==============================] - ETA: 0s - loss: 8.5780e-04 - acc: 1.000 - ETA: 0s - loss: 8.2732e-04 - acc: 1.000 - 1s 3ms/step - loss: 8.3542e-04 - acc: 1.0000 - val_loss: 0.7518 - val_acc: 0.5384\n",
      "Epoch 13/15\n",
      "200/200 [==============================] - ETA: 0s - loss: 6.4759e-04 - acc: 1.000 - ETA: 0s - loss: 5.1973e-04 - acc: 1.000 - 1s 3ms/step - loss: 5.1890e-04 - acc: 1.0000 - val_loss: 0.8080 - val_acc: 0.5281\n",
      "Epoch 14/15\n",
      "200/200 [==============================] - ETA: 0s - loss: 4.2212e-04 - acc: 1.000 - ETA: 0s - loss: 3.3318e-04 - acc: 1.000 - 1s 3ms/step - loss: 3.4149e-04 - acc: 1.0000 - val_loss: 0.7622 - val_acc: 0.5413\n",
      "Epoch 15/15\n",
      "200/200 [==============================] - ETA: 0s - loss: 3.1455e-04 - acc: 1.000 - ETA: 0s - loss: 2.2575e-04 - acc: 1.000 - 1s 3ms/step - loss: 2.2363e-04 - acc: 1.0000 - val_loss: 0.7938 - val_acc: 0.5348\n"
     ]
    }
   ],
   "source": [
    "history = model.fit(x_train,y_train,epochs=15,batch_size=32,validation_data=(x_val,y_val))"
   ]
  },
  {
   "cell_type": "code",
   "execution_count": 39,
   "metadata": {},
   "outputs": [],
   "source": [
    "epochs = history.epoch\n",
    "acc = history.history['acc']\n",
    "val_acc = history.history['val_acc']\n",
    "loss = history.history['loss']\n",
    "val_loss = history.history['val_loss']"
   ]
  },
  {
   "cell_type": "code",
   "execution_count": 40,
   "metadata": {},
   "outputs": [
    {
     "data": {
      "image/png": "[encoded data removed]",
      "text/plain": [
       "<Figure size 720x432 with 2 Axes>"
      ]
     },
     "metadata": {},
     "output_type": "display_data"
    }
   ],
   "source": [
    "plt.figure(figsize=(10,6))\n",
    "plt.suptitle('Model without pre-trained word embedding')\n",
    "plt.subplot(121)\n",
    "plt.plot(epochs,acc,'o-',color='r',label='Training')\n",
    "plt.plot(epochs,val_acc,'--',color='b',label='Validation')\n",
    "plt.xlabel('Epoch')\n",
    "plt.ylabel('Accuracy')\n",
    "plt.legend(loc='best')\n",
    "\n",
    "plt.subplot(122)\n",
    "plt.plot(epochs,loss,'o-',color='r',label='Training')\n",
    "plt.plot(epochs,val_loss,'--',color='b',label='Validation')\n",
    "plt.xlabel('Epoch')\n",
    "plt.ylabel('Loss')\n",
    "plt.legend(loc='best')\n",
    "plt.show()"
   ]
  },
  {
   "cell_type": "code",
   "execution_count": 41,
   "metadata": {},
   "outputs": [
    {
     "name": "stderr",
     "output_type": "stream",
     "text": [
      "100%|██████████| 12500/12500 [00:02<00:00, 4307.01it/s]\n",
      "100%|██████████| 12500/12500 [00:02<00:00, 4342.74it/s]\n"
     ]
    }
   ],
   "source": [
    "test_dir = os.path.join(imdb_dir,'test')\n",
    "labels = []\n",
    "texts = []\n",
    "for label_type in ['neg','pos']:\n",
    "    dir_name = os.path.join(test_dir,label_type)\n",
    "    for fname in tqdm(os.listdir(dir_name)):\n",
    "        if fname[-4:] == '.txt':\n",
    "            f = open(os.path.join(dir_name,fname),encoding='utf-8')\n",
    "            texts.append(f.read())\n",
    "            f.close()\n",
    "            if label_type == 'neg':\n",
    "                labels.append(0)\n",
    "            if label_type == 'pos':\n",
    "                labels.append(1)"
   ]
  },
  {
   "cell_type": "code",
   "execution_count": 42,
   "metadata": {},
   "outputs": [],
   "source": [
    "sequences = tokenizer.texts_to_sequences(texts=texts)\n",
    "x_test = pad_sequences(sequences=sequences,maxlen=maxlen)\n",
    "y_test = np.asarray(labels)"
   ]
  },
  {
   "cell_type": "code",
   "execution_count": 44,
   "metadata": {},
   "outputs": [],
   "source": [
    "model.load_weights('models/pre_trained_glove_model.h5')"
   ]
  },
  {
   "cell_type": "code",
   "execution_count": 46,
   "metadata": {},
   "outputs": [
    {
     "name": "stdout",
     "output_type": "stream",
     "text": [
      "25000/25000 [==============================] - ETA: 2: - ETA: 7s - ETA:  - ETA:  - ETA:  - ETA:  - ETA:  - ETA:  - ETA:  - ETA:  - ETA:  - ETA:  - ETA:  - ETA:  - ETA:  - ETA:  - ETA:  - ETA:  - ETA:  - ETA:  - ETA:  - ETA:  - ETA:  - ETA:  - ETA:  - ETA:  - ETA:  - ETA:  - ETA:  - ETA:  - ETA:  - ETA:  - ETA:  - ETA:  - 2s 76us/step\n"
     ]
    },
    {
     "data": {
      "text/plain": [
       "[0.8232742094898224, 0.58356]"
      ]
     },
     "execution_count": 46,
     "metadata": {},
     "output_type": "execute_result"
    }
   ],
   "source": [
    "model.evaluate(x_test,y_test)"
   ]
  },
  {
   "cell_type": "code",
   "execution_count": null,
   "metadata": {},
   "outputs": [],
   "source": []
  }
 ],
 "metadata": {
  "kernelspec": {
   "display_name": "Python 3",
   "language": "python",
   "name": "python3"
  },
  "language_info": {
   "codemirror_mode": {
    "name": "ipython",
    "version": 3
   },
   "file_extension": ".py",
   "mimetype": "text/x-python",
   "name": "python",
   "nbconvert_exporter": "python",
   "pygments_lexer": "ipython3",
   "version": "3.6.5"
  }
 },
 "nbformat": 4,
 "nbformat_minor": 2
}
