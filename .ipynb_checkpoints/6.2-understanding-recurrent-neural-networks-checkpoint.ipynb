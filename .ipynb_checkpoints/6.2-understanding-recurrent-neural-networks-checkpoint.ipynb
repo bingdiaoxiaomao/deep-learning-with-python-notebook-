{
 "cells": [
  {
   "cell_type": "code",
   "execution_count": 2,
   "metadata": {},
   "outputs": [
    {
     "data": {
      "text/plain": [
       "'2.2.2'"
      ]
     },
     "execution_count": 2,
     "metadata": {},
     "output_type": "execute_result"
    }
   ],
   "source": [
    "import keras\n",
    "keras.__version__"
   ]
  },
  {
   "cell_type": "markdown",
   "metadata": {},
   "source": [
    "## Understanding recurrent neural networks"
   ]
  },
  {
   "cell_type": "markdown",
   "metadata": {},
   "source": [
    "### A first reccurent layer in keras"
   ]
  },
  {
   "cell_type": "code",
   "execution_count": 3,
   "metadata": {},
   "outputs": [],
   "source": [
    "from keras.layers import SimpleRNN"
   ]
  },
  {
   "cell_type": "markdown",
   "metadata": {},
   "source": [
    "在keras中，RNN的返回值有两种形式，一是返回所有的输出序列，输出的shape为(batch_size,timesteps,output_features)，或者仅返回输出序列的最后那个值，此时的输出的shape为(batch_size,output_features)。这个输入模式的选择由SimpleRNN函数中的return_sequences参数控制。"
   ]
  },
  {
   "cell_type": "code",
   "execution_count": 9,
   "metadata": {},
   "outputs": [
    {
     "name": "stdout",
     "output_type": "stream",
     "text": [
      "_________________________________________________________________\n",
      "Layer (type)                 Output Shape              Param #   \n",
      "=================================================================\n",
      "embedding_3 (Embedding)      (None, None, 32)          320000    \n",
      "_________________________________________________________________\n",
      "simple_rnn_3 (SimpleRNN)     (None, 32)                2080      \n",
      "=================================================================\n",
      "Total params: 322,080\n",
      "Trainable params: 322,080\n",
      "Non-trainable params: 0\n",
      "_________________________________________________________________\n"
     ]
    }
   ],
   "source": [
    "from keras.models import Sequential\n",
    "from keras.layers import Embedding,SimpleRNN\n",
    "from keras.utils import plot_model\n",
    "\n",
    "model = Sequential()\n",
    "model.add(Embedding(input_dim=10000,output_dim=32))\n",
    "model.add(SimpleRNN(units=32))\n",
    "model.summary()\n",
    "plot_model(model=model,show_layer_names=True,show_shapes=True,to_file='images/understanding-RNN.png')"
   ]
  },
  {
   "cell_type": "code",
   "execution_count": 10,
   "metadata": {},
   "outputs": [
    {
     "name": "stdout",
     "output_type": "stream",
     "text": [
      "_________________________________________________________________\n",
      "Layer (type)                 Output Shape              Param #   \n",
      "=================================================================\n",
      "embedding_4 (Embedding)      (None, None, 32)          320000    \n",
      "_________________________________________________________________\n",
      "simple_rnn_4 (SimpleRNN)     (None, None, 32)          2080      \n",
      "=================================================================\n",
      "Total params: 322,080\n",
      "Trainable params: 322,080\n",
      "Non-trainable params: 0\n",
      "_________________________________________________________________\n"
     ]
    }
   ],
   "source": [
    "model = Sequential()\n",
    "model.add(Embedding(input_dim=10000,output_dim=32))\n",
    "model.add(SimpleRNN(units=32,return_sequences=True))\n",
    "model.summary()"
   ]
  },
  {
   "cell_type": "code",
   "execution_count": 11,
   "metadata": {},
   "outputs": [],
   "source": [
    "from keras.datasets import imdb\n",
    "from keras.preprocessing import sequence"
   ]
  },
  {
   "cell_type": "code",
   "execution_count": 15,
   "metadata": {},
   "outputs": [],
   "source": [
    "max_features = 10000\n",
    "maxlen = 500\n",
    "batch_size = 32"
   ]
  },
  {
   "cell_type": "code",
   "execution_count": 16,
   "metadata": {},
   "outputs": [],
   "source": [
    "(input_train,y_train),(input_test,y_test) = imdb.load_data(num_words=max_features)"
   ]
  },
  {
   "cell_type": "code",
   "execution_count": 18,
   "metadata": {},
   "outputs": [],
   "source": [
    "input_train = sequence.pad_sequences(input_train,maxlen=maxlen)\n",
    "input_test = sequence.pad_sequences(input_test,maxlen=maxlen)"
   ]
  },
  {
   "cell_type": "code",
   "execution_count": 19,
   "metadata": {},
   "outputs": [
    {
     "name": "stdout",
     "output_type": "stream",
     "text": [
      "input_train shape (25000, 500)\n",
      "input_test shape (25000, 500)\n"
     ]
    }
   ],
   "source": [
    "print('input_train shape {}'.format(input_train.shape))\n",
    "print('input_test shape {}'.format(input_test.shape))"
   ]
  },
  {
   "cell_type": "code",
   "execution_count": 25,
   "metadata": {},
   "outputs": [],
   "source": [
    "from keras.layers import Dense\n",
    "\n",
    "model = Sequential()\n",
    "model.add(Embedding(input_dim=max_features,output_dim=32))\n",
    "model.add(SimpleRNN(units=32))\n",
    "model.add(Dense(units=1,activation='sigmoid'))"
   ]
  },
  {
   "cell_type": "code",
   "execution_count": 26,
   "metadata": {},
   "outputs": [
    {
     "name": "stdout",
     "output_type": "stream",
     "text": [
      "_________________________________________________________________\n",
      "Layer (type)                 Output Shape              Param #   \n",
      "=================================================================\n",
      "embedding_7 (Embedding)      (None, None, 32)          320000    \n",
      "_________________________________________________________________\n",
      "simple_rnn_7 (SimpleRNN)     (None, 32)                2080      \n",
      "_________________________________________________________________\n",
      "dense_3 (Dense)              (None, 1)                 33        \n",
      "=================================================================\n",
      "Total params: 322,113\n",
      "Trainable params: 322,113\n",
      "Non-trainable params: 0\n",
      "_________________________________________________________________\n",
      "None\n"
     ]
    }
   ],
   "source": [
    "model.compile(loss='binary_crossentropy',optimizer='rmsprop',metrics=['acc'])\n",
    "print(model.summary())"
   ]
  },
  {
   "cell_type": "code",
   "execution_count": 27,
   "metadata": {},
   "outputs": [
    {
     "name": "stdout",
     "output_type": "stream",
     "text": [
      "Train on 20000 samples, validate on 5000 samples\n",
      "Epoch 1/10\n",
      "20000/20000 [==============================] - 53s 3ms/step - loss: 0.5883 - acc: 0.6748 - val_loss: 0.4968 - val_acc: 0.7598\n",
      "Epoch 2/10\n",
      "20000/20000 [==============================] - 57s 3ms/step - loss: 0.3691 - acc: 0.8457 - val_loss: 0.3573 - val_acc: 0.8560\n",
      "Epoch 3/10\n",
      "20000/20000 [==============================] - 57s 3ms/step - loss: 0.2806 - acc: 0.8902 - val_loss: 0.4596 - val_acc: 0.7762\n",
      "Epoch 4/10\n",
      "20000/20000 [==============================] - 58s 3ms/step - loss: 0.2255 - acc: 0.9156 - val_loss: 0.3370 - val_acc: 0.8618\n",
      "Epoch 5/10\n",
      "20000/20000 [==============================] - 61s 3ms/step - loss: 0.1756 - acc: 0.9344 - val_loss: 0.3824 - val_acc: 0.8548\n",
      "Epoch 6/10\n",
      "20000/20000 [==============================] - 61s 3ms/step - loss: 0.1524 - acc: 0.9469 - val_loss: 0.4039 - val_acc: 0.8618\n",
      "Epoch 7/10\n",
      "20000/20000 [==============================] - 60s 3ms/step - loss: 0.1034 - acc: 0.9635 - val_loss: 0.4519 - val_acc: 0.8398\n",
      "Epoch 8/10\n",
      "20000/20000 [==============================] - 59s 3ms/step - loss: 0.0788 - acc: 0.9741 - val_loss: 0.4564 - val_acc: 0.8582\n",
      "Epoch 9/10\n",
      "20000/20000 [==============================] - 60s 3ms/step - loss: 0.0529 - acc: 0.9836 - val_loss: 0.5079 - val_acc: 0.8582\n",
      "Epoch 10/10\n",
      "20000/20000 [==============================] - 61s 3ms/step - loss: 0.0392 - acc: 0.9877 - val_loss: 0.5680 - val_acc: 0.8332\n"
     ]
    }
   ],
   "source": [
    "history = model.fit(input_train,\n",
    "                    y_train,\n",
    "                    batch_size=128,\n",
    "                    epochs=10,\n",
    "                    validation_split=0.2)"
   ]
  },
  {
   "cell_type": "code",
   "execution_count": null,
   "metadata": {},
   "outputs": [],
   "source": []
  }
 ],
 "metadata": {
  "kernelspec": {
   "display_name": "Python 3",
   "language": "python",
   "name": "python3"
  },
  "language_info": {
   "codemirror_mode": {
    "name": "ipython",
    "version": 3
   },
   "file_extension": ".py",
   "mimetype": "text/x-python",
   "name": "python",
   "nbconvert_exporter": "python",
   "pygments_lexer": "ipython3",
   "version": "3.6.5"
  }
 },
 "nbformat": 4,
 "nbformat_minor": 2
}
